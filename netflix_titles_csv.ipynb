{
 "cells": [
  {
   "cell_type": "code",
   "execution_count": 1,
   "id": "a12de02a",
   "metadata": {},
   "outputs": [],
   "source": [
    "import pandas as pd\n"
   ]
  },
  {
   "cell_type": "code",
   "execution_count": 2,
   "id": "d1b1e60b",
   "metadata": {},
   "outputs": [],
   "source": [
    "df = pd.read_csv(\"C:\\\\SAYALI PY\\\\sayali\\\\netflix_titles.csv\")"
   ]
  },
  {
   "cell_type": "code",
   "execution_count": 3,
   "id": "6bea26bc",
   "metadata": {},
   "outputs": [
    {
     "data": {
      "text/html": [
       "<div>\n",
       "<style scoped>\n",
       "    .dataframe tbody tr th:only-of-type {\n",
       "        vertical-align: middle;\n",
       "    }\n",
       "\n",
       "    .dataframe tbody tr th {\n",
       "        vertical-align: top;\n",
       "    }\n",
       "\n",
       "    .dataframe thead th {\n",
       "        text-align: right;\n",
       "    }\n",
       "</style>\n",
       "<table border=\"1\" class=\"dataframe\">\n",
       "  <thead>\n",
       "    <tr style=\"text-align: right;\">\n",
       "      <th></th>\n",
       "      <th>show_id</th>\n",
       "      <th>type</th>\n",
       "      <th>title</th>\n",
       "      <th>director</th>\n",
       "      <th>cast</th>\n",
       "      <th>country</th>\n",
       "      <th>date_added</th>\n",
       "      <th>release_year</th>\n",
       "      <th>rating</th>\n",
       "      <th>duration</th>\n",
       "      <th>listed_in</th>\n",
       "      <th>description</th>\n",
       "    </tr>\n",
       "  </thead>\n",
       "  <tbody>\n",
       "    <tr>\n",
       "      <th>0</th>\n",
       "      <td>s1</td>\n",
       "      <td>Movie</td>\n",
       "      <td>Dick Johnson Is Dead</td>\n",
       "      <td>Kirsten Johnson</td>\n",
       "      <td>NaN</td>\n",
       "      <td>United States</td>\n",
       "      <td>September 25, 2021</td>\n",
       "      <td>2020</td>\n",
       "      <td>PG-13</td>\n",
       "      <td>90 min</td>\n",
       "      <td>Documentaries</td>\n",
       "      <td>As her father nears the end of his life, filmm...</td>\n",
       "    </tr>\n",
       "    <tr>\n",
       "      <th>1</th>\n",
       "      <td>s2</td>\n",
       "      <td>TV Show</td>\n",
       "      <td>Blood &amp; Water</td>\n",
       "      <td>NaN</td>\n",
       "      <td>Ama Qamata, Khosi Ngema, Gail Mabalane, Thaban...</td>\n",
       "      <td>South Africa</td>\n",
       "      <td>September 24, 2021</td>\n",
       "      <td>2021</td>\n",
       "      <td>TV-MA</td>\n",
       "      <td>2 Seasons</td>\n",
       "      <td>International TV Shows, TV Dramas, TV Mysteries</td>\n",
       "      <td>After crossing paths at a party, a Cape Town t...</td>\n",
       "    </tr>\n",
       "    <tr>\n",
       "      <th>2</th>\n",
       "      <td>s3</td>\n",
       "      <td>TV Show</td>\n",
       "      <td>Ganglands</td>\n",
       "      <td>Julien Leclercq</td>\n",
       "      <td>Sami Bouajila, Tracy Gotoas, Samuel Jouy, Nabi...</td>\n",
       "      <td>NaN</td>\n",
       "      <td>September 24, 2021</td>\n",
       "      <td>2021</td>\n",
       "      <td>TV-MA</td>\n",
       "      <td>1 Season</td>\n",
       "      <td>Crime TV Shows, International TV Shows, TV Act...</td>\n",
       "      <td>To protect his family from a powerful drug lor...</td>\n",
       "    </tr>\n",
       "    <tr>\n",
       "      <th>3</th>\n",
       "      <td>s4</td>\n",
       "      <td>TV Show</td>\n",
       "      <td>Jailbirds New Orleans</td>\n",
       "      <td>NaN</td>\n",
       "      <td>NaN</td>\n",
       "      <td>NaN</td>\n",
       "      <td>September 24, 2021</td>\n",
       "      <td>2021</td>\n",
       "      <td>TV-MA</td>\n",
       "      <td>1 Season</td>\n",
       "      <td>Docuseries, Reality TV</td>\n",
       "      <td>Feuds, flirtations and toilet talk go down amo...</td>\n",
       "    </tr>\n",
       "    <tr>\n",
       "      <th>4</th>\n",
       "      <td>s5</td>\n",
       "      <td>TV Show</td>\n",
       "      <td>Kota Factory</td>\n",
       "      <td>NaN</td>\n",
       "      <td>Mayur More, Jitendra Kumar, Ranjan Raj, Alam K...</td>\n",
       "      <td>India</td>\n",
       "      <td>September 24, 2021</td>\n",
       "      <td>2021</td>\n",
       "      <td>TV-MA</td>\n",
       "      <td>2 Seasons</td>\n",
       "      <td>International TV Shows, Romantic TV Shows, TV ...</td>\n",
       "      <td>In a city of coaching centers known to train I...</td>\n",
       "    </tr>\n",
       "  </tbody>\n",
       "</table>\n",
       "</div>"
      ],
      "text/plain": [
       "  show_id     type                  title         director  \\\n",
       "0      s1    Movie   Dick Johnson Is Dead  Kirsten Johnson   \n",
       "1      s2  TV Show          Blood & Water              NaN   \n",
       "2      s3  TV Show              Ganglands  Julien Leclercq   \n",
       "3      s4  TV Show  Jailbirds New Orleans              NaN   \n",
       "4      s5  TV Show           Kota Factory              NaN   \n",
       "\n",
       "                                                cast        country  \\\n",
       "0                                                NaN  United States   \n",
       "1  Ama Qamata, Khosi Ngema, Gail Mabalane, Thaban...   South Africa   \n",
       "2  Sami Bouajila, Tracy Gotoas, Samuel Jouy, Nabi...            NaN   \n",
       "3                                                NaN            NaN   \n",
       "4  Mayur More, Jitendra Kumar, Ranjan Raj, Alam K...          India   \n",
       "\n",
       "           date_added  release_year rating   duration  \\\n",
       "0  September 25, 2021          2020  PG-13     90 min   \n",
       "1  September 24, 2021          2021  TV-MA  2 Seasons   \n",
       "2  September 24, 2021          2021  TV-MA   1 Season   \n",
       "3  September 24, 2021          2021  TV-MA   1 Season   \n",
       "4  September 24, 2021          2021  TV-MA  2 Seasons   \n",
       "\n",
       "                                           listed_in  \\\n",
       "0                                      Documentaries   \n",
       "1    International TV Shows, TV Dramas, TV Mysteries   \n",
       "2  Crime TV Shows, International TV Shows, TV Act...   \n",
       "3                             Docuseries, Reality TV   \n",
       "4  International TV Shows, Romantic TV Shows, TV ...   \n",
       "\n",
       "                                         description  \n",
       "0  As her father nears the end of his life, filmm...  \n",
       "1  After crossing paths at a party, a Cape Town t...  \n",
       "2  To protect his family from a powerful drug lor...  \n",
       "3  Feuds, flirtations and toilet talk go down amo...  \n",
       "4  In a city of coaching centers known to train I...  "
      ]
     },
     "execution_count": 3,
     "metadata": {},
     "output_type": "execute_result"
    }
   ],
   "source": [
    "df.head()"
   ]
  },
  {
   "cell_type": "code",
   "execution_count": 4,
   "id": "061037e7",
   "metadata": {},
   "outputs": [
    {
     "data": {
      "text/plain": [
       "(8807, 12)"
      ]
     },
     "execution_count": 4,
     "metadata": {},
     "output_type": "execute_result"
    }
   ],
   "source": [
    "df.shape"
   ]
  },
  {
   "cell_type": "code",
   "execution_count": 5,
   "id": "7e1afc9a",
   "metadata": {},
   "outputs": [
    {
     "name": "stdout",
     "output_type": "stream",
     "text": [
      "<class 'pandas.core.frame.DataFrame'>\n",
      "RangeIndex: 8807 entries, 0 to 8806\n",
      "Data columns (total 12 columns):\n",
      " #   Column        Non-Null Count  Dtype \n",
      "---  ------        --------------  ----- \n",
      " 0   show_id       8807 non-null   object\n",
      " 1   type          8807 non-null   object\n",
      " 2   title         8807 non-null   object\n",
      " 3   director      6173 non-null   object\n",
      " 4   cast          7982 non-null   object\n",
      " 5   country       7976 non-null   object\n",
      " 6   date_added    8797 non-null   object\n",
      " 7   release_year  8807 non-null   int64 \n",
      " 8   rating        8803 non-null   object\n",
      " 9   duration      8804 non-null   object\n",
      " 10  listed_in     8807 non-null   object\n",
      " 11  description   8807 non-null   object\n",
      "dtypes: int64(1), object(11)\n",
      "memory usage: 825.8+ KB\n"
     ]
    }
   ],
   "source": [
    "df.info()"
   ]
  },
  {
   "cell_type": "code",
   "execution_count": 6,
   "id": "d7f5c98e",
   "metadata": {},
   "outputs": [
    {
     "data": {
      "text/plain": [
       "show_id            0\n",
       "type               0\n",
       "title              0\n",
       "director        2634\n",
       "cast             825\n",
       "country          831\n",
       "date_added        10\n",
       "release_year       0\n",
       "rating             4\n",
       "duration           3\n",
       "listed_in          0\n",
       "description        0\n",
       "dtype: int64"
      ]
     },
     "execution_count": 6,
     "metadata": {},
     "output_type": "execute_result"
    }
   ],
   "source": [
    "df.isnull().sum()"
   ]
  },
  {
   "cell_type": "code",
   "execution_count": 7,
   "id": "79cf20ff",
   "metadata": {},
   "outputs": [],
   "source": [
    "df1 = df.drop([\"show_id\",\"date_added\",\"listed_in\",\"description\"],axis=1)"
   ]
  },
  {
   "cell_type": "code",
   "execution_count": 8,
   "id": "a27dbffd",
   "metadata": {},
   "outputs": [
    {
     "data": {
      "text/html": [
       "<div>\n",
       "<style scoped>\n",
       "    .dataframe tbody tr th:only-of-type {\n",
       "        vertical-align: middle;\n",
       "    }\n",
       "\n",
       "    .dataframe tbody tr th {\n",
       "        vertical-align: top;\n",
       "    }\n",
       "\n",
       "    .dataframe thead th {\n",
       "        text-align: right;\n",
       "    }\n",
       "</style>\n",
       "<table border=\"1\" class=\"dataframe\">\n",
       "  <thead>\n",
       "    <tr style=\"text-align: right;\">\n",
       "      <th></th>\n",
       "      <th>type</th>\n",
       "      <th>title</th>\n",
       "      <th>director</th>\n",
       "      <th>cast</th>\n",
       "      <th>country</th>\n",
       "      <th>release_year</th>\n",
       "      <th>rating</th>\n",
       "      <th>duration</th>\n",
       "    </tr>\n",
       "  </thead>\n",
       "  <tbody>\n",
       "    <tr>\n",
       "      <th>0</th>\n",
       "      <td>Movie</td>\n",
       "      <td>Dick Johnson Is Dead</td>\n",
       "      <td>Kirsten Johnson</td>\n",
       "      <td>NaN</td>\n",
       "      <td>United States</td>\n",
       "      <td>2020</td>\n",
       "      <td>PG-13</td>\n",
       "      <td>90 min</td>\n",
       "    </tr>\n",
       "    <tr>\n",
       "      <th>1</th>\n",
       "      <td>TV Show</td>\n",
       "      <td>Blood &amp; Water</td>\n",
       "      <td>NaN</td>\n",
       "      <td>Ama Qamata, Khosi Ngema, Gail Mabalane, Thaban...</td>\n",
       "      <td>South Africa</td>\n",
       "      <td>2021</td>\n",
       "      <td>TV-MA</td>\n",
       "      <td>2 Seasons</td>\n",
       "    </tr>\n",
       "    <tr>\n",
       "      <th>2</th>\n",
       "      <td>TV Show</td>\n",
       "      <td>Ganglands</td>\n",
       "      <td>Julien Leclercq</td>\n",
       "      <td>Sami Bouajila, Tracy Gotoas, Samuel Jouy, Nabi...</td>\n",
       "      <td>NaN</td>\n",
       "      <td>2021</td>\n",
       "      <td>TV-MA</td>\n",
       "      <td>1 Season</td>\n",
       "    </tr>\n",
       "    <tr>\n",
       "      <th>3</th>\n",
       "      <td>TV Show</td>\n",
       "      <td>Jailbirds New Orleans</td>\n",
       "      <td>NaN</td>\n",
       "      <td>NaN</td>\n",
       "      <td>NaN</td>\n",
       "      <td>2021</td>\n",
       "      <td>TV-MA</td>\n",
       "      <td>1 Season</td>\n",
       "    </tr>\n",
       "    <tr>\n",
       "      <th>4</th>\n",
       "      <td>TV Show</td>\n",
       "      <td>Kota Factory</td>\n",
       "      <td>NaN</td>\n",
       "      <td>Mayur More, Jitendra Kumar, Ranjan Raj, Alam K...</td>\n",
       "      <td>India</td>\n",
       "      <td>2021</td>\n",
       "      <td>TV-MA</td>\n",
       "      <td>2 Seasons</td>\n",
       "    </tr>\n",
       "  </tbody>\n",
       "</table>\n",
       "</div>"
      ],
      "text/plain": [
       "      type                  title         director  \\\n",
       "0    Movie   Dick Johnson Is Dead  Kirsten Johnson   \n",
       "1  TV Show          Blood & Water              NaN   \n",
       "2  TV Show              Ganglands  Julien Leclercq   \n",
       "3  TV Show  Jailbirds New Orleans              NaN   \n",
       "4  TV Show           Kota Factory              NaN   \n",
       "\n",
       "                                                cast        country  \\\n",
       "0                                                NaN  United States   \n",
       "1  Ama Qamata, Khosi Ngema, Gail Mabalane, Thaban...   South Africa   \n",
       "2  Sami Bouajila, Tracy Gotoas, Samuel Jouy, Nabi...            NaN   \n",
       "3                                                NaN            NaN   \n",
       "4  Mayur More, Jitendra Kumar, Ranjan Raj, Alam K...          India   \n",
       "\n",
       "   release_year rating   duration  \n",
       "0          2020  PG-13     90 min  \n",
       "1          2021  TV-MA  2 Seasons  \n",
       "2          2021  TV-MA   1 Season  \n",
       "3          2021  TV-MA   1 Season  \n",
       "4          2021  TV-MA  2 Seasons  "
      ]
     },
     "execution_count": 8,
     "metadata": {},
     "output_type": "execute_result"
    }
   ],
   "source": [
    "df1.head()"
   ]
  },
  {
   "cell_type": "code",
   "execution_count": 9,
   "id": "5679ccaa",
   "metadata": {},
   "outputs": [
    {
     "data": {
      "text/html": [
       "<div>\n",
       "<style scoped>\n",
       "    .dataframe tbody tr th:only-of-type {\n",
       "        vertical-align: middle;\n",
       "    }\n",
       "\n",
       "    .dataframe tbody tr th {\n",
       "        vertical-align: top;\n",
       "    }\n",
       "\n",
       "    .dataframe thead th {\n",
       "        text-align: right;\n",
       "    }\n",
       "</style>\n",
       "<table border=\"1\" class=\"dataframe\">\n",
       "  <thead>\n",
       "    <tr style=\"text-align: right;\">\n",
       "      <th></th>\n",
       "      <th>type</th>\n",
       "      <th>title</th>\n",
       "      <th>director</th>\n",
       "      <th>cast</th>\n",
       "      <th>country</th>\n",
       "      <th>release_year</th>\n",
       "      <th>rating</th>\n",
       "      <th>duration</th>\n",
       "    </tr>\n",
       "  </thead>\n",
       "  <tbody>\n",
       "    <tr>\n",
       "      <th>4723</th>\n",
       "      <td>Movie</td>\n",
       "      <td>Fiza</td>\n",
       "      <td>Khalid Mohamed</td>\n",
       "      <td>Karisma Kapoor, Jaya Bhaduri, Hrithik Roshan, ...</td>\n",
       "      <td>India</td>\n",
       "      <td>2000</td>\n",
       "      <td>TV-14</td>\n",
       "      <td>163 min</td>\n",
       "    </tr>\n",
       "    <tr>\n",
       "      <th>4956</th>\n",
       "      <td>Movie</td>\n",
       "      <td>Phir Bhi Dil Hai Hindustani</td>\n",
       "      <td>Aziz Mirza</td>\n",
       "      <td>Shah Rukh Khan, Juhi Chawla, Paresh Rawal, Sat...</td>\n",
       "      <td>India</td>\n",
       "      <td>2000</td>\n",
       "      <td>TV-14</td>\n",
       "      <td>159 min</td>\n",
       "    </tr>\n",
       "    <tr>\n",
       "      <th>6440</th>\n",
       "      <td>Movie</td>\n",
       "      <td>Chal Mere Bhai</td>\n",
       "      <td>David Dhawan</td>\n",
       "      <td>Sanjay Dutt, Salman Khan, Karisma Kapoor, Dali...</td>\n",
       "      <td>India</td>\n",
       "      <td>2000</td>\n",
       "      <td>TV-14</td>\n",
       "      <td>132 min</td>\n",
       "    </tr>\n",
       "    <tr>\n",
       "      <th>6912</th>\n",
       "      <td>Movie</td>\n",
       "      <td>Hamara Dil Aapke Paas Hai</td>\n",
       "      <td>Satish Kaushik</td>\n",
       "      <td>Anil Kapoor, Aishwarya Rai Bachchan, Sonali Be...</td>\n",
       "      <td>India</td>\n",
       "      <td>2000</td>\n",
       "      <td>TV-14</td>\n",
       "      <td>158 min</td>\n",
       "    </tr>\n",
       "    <tr>\n",
       "      <th>7247</th>\n",
       "      <td>Movie</td>\n",
       "      <td>Kya Kehna</td>\n",
       "      <td>Kundan Shah</td>\n",
       "      <td>Preity Zinta, Saif Ali Khan, Anupam Kher, Fari...</td>\n",
       "      <td>India</td>\n",
       "      <td>2000</td>\n",
       "      <td>TV-PG</td>\n",
       "      <td>149 min</td>\n",
       "    </tr>\n",
       "    <tr>\n",
       "      <th>7702</th>\n",
       "      <td>Movie</td>\n",
       "      <td>Papa the Great</td>\n",
       "      <td>Bhagyaraj</td>\n",
       "      <td>Krishan Kumar, Nagma, Satya Prakash, Master Bo...</td>\n",
       "      <td>India</td>\n",
       "      <td>2000</td>\n",
       "      <td>TV-PG</td>\n",
       "      <td>137 min</td>\n",
       "    </tr>\n",
       "    <tr>\n",
       "      <th>7801</th>\n",
       "      <td>Movie</td>\n",
       "      <td>Pukar</td>\n",
       "      <td>Rajkumar Santoshi</td>\n",
       "      <td>Anil Kapoor, Madhuri Dixit, Namrata Shirodkar,...</td>\n",
       "      <td>India</td>\n",
       "      <td>2000</td>\n",
       "      <td>TV-14</td>\n",
       "      <td>165 min</td>\n",
       "    </tr>\n",
       "  </tbody>\n",
       "</table>\n",
       "</div>"
      ],
      "text/plain": [
       "       type                        title           director  \\\n",
       "4723  Movie                         Fiza     Khalid Mohamed   \n",
       "4956  Movie  Phir Bhi Dil Hai Hindustani         Aziz Mirza   \n",
       "6440  Movie               Chal Mere Bhai       David Dhawan   \n",
       "6912  Movie    Hamara Dil Aapke Paas Hai     Satish Kaushik   \n",
       "7247  Movie                    Kya Kehna        Kundan Shah   \n",
       "7702  Movie               Papa the Great          Bhagyaraj   \n",
       "7801  Movie                        Pukar  Rajkumar Santoshi   \n",
       "\n",
       "                                                   cast country  release_year  \\\n",
       "4723  Karisma Kapoor, Jaya Bhaduri, Hrithik Roshan, ...   India          2000   \n",
       "4956  Shah Rukh Khan, Juhi Chawla, Paresh Rawal, Sat...   India          2000   \n",
       "6440  Sanjay Dutt, Salman Khan, Karisma Kapoor, Dali...   India          2000   \n",
       "6912  Anil Kapoor, Aishwarya Rai Bachchan, Sonali Be...   India          2000   \n",
       "7247  Preity Zinta, Saif Ali Khan, Anupam Kher, Fari...   India          2000   \n",
       "7702  Krishan Kumar, Nagma, Satya Prakash, Master Bo...   India          2000   \n",
       "7801  Anil Kapoor, Madhuri Dixit, Namrata Shirodkar,...   India          2000   \n",
       "\n",
       "     rating duration  \n",
       "4723  TV-14  163 min  \n",
       "4956  TV-14  159 min  \n",
       "6440  TV-14  132 min  \n",
       "6912  TV-14  158 min  \n",
       "7247  TV-PG  149 min  \n",
       "7702  TV-PG  137 min  \n",
       "7801  TV-14  165 min  "
      ]
     },
     "execution_count": 9,
     "metadata": {},
     "output_type": "execute_result"
    }
   ],
   "source": [
    "# Indian movies released in year 2000\n",
    "\n",
    "Indian_movies_2000 = df1[(df1['country'] == 'India') & (df1['release_year'] ==2000)]\n",
    "Indian_movies_2000"
   ]
  },
  {
   "cell_type": "code",
   "execution_count": 10,
   "id": "1fb32af0",
   "metadata": {},
   "outputs": [
    {
     "data": {
      "text/plain": [
       "Rajiv Chilaka             19\n",
       "Raúl Campos, Jan Suter    18\n",
       "Marcus Raboy              16\n",
       "Suhas Kadav               16\n",
       "Jay Karas                 14\n",
       "Name: director, dtype: int64"
      ]
     },
     "execution_count": 10,
     "metadata": {},
     "output_type": "execute_result"
    }
   ],
   "source": [
    "# top 5 directors who has directed more number of tv_shows or movies \n",
    "\n",
    "director_counts = df1[\"director\"].value_counts()\n",
    "director_counts.head()"
   ]
  },
  {
   "cell_type": "code",
   "execution_count": 11,
   "id": "24df509a",
   "metadata": {},
   "outputs": [
    {
     "data": {
      "text/plain": [
       "7247    Preity Zinta, Saif Ali Khan, Anupam Kher, Fari...\n",
       "Name: cast, dtype: object"
      ]
     },
     "execution_count": 11,
     "metadata": {},
     "output_type": "execute_result"
    }
   ],
   "source": [
    "# cast of any particular movie\n",
    "\n",
    "movie = \"Kya Kehna\"\n",
    "cast_of_movie = df1.loc[df1['title'] == movie,\"cast\"]\n",
    "cast_of_movie"
   ]
  },
  {
   "cell_type": "code",
   "execution_count": 12,
   "id": "956e491c",
   "metadata": {},
   "outputs": [
    {
     "data": {
      "text/plain": [
       "array(['Movie', 'TV Show'], dtype=object)"
      ]
     },
     "execution_count": 12,
     "metadata": {},
     "output_type": "execute_result"
    }
   ],
   "source": [
    "df1['type'].unique()"
   ]
  },
  {
   "cell_type": "code",
   "execution_count": 13,
   "id": "813f216e",
   "metadata": {},
   "outputs": [
    {
     "data": {
      "text/plain": [
       "8807"
      ]
     },
     "execution_count": 13,
     "metadata": {},
     "output_type": "execute_result"
    }
   ],
   "source": [
    "# how many movies & tv shows are in dataset\n",
    "\n",
    "df1['type'].agg(\"count\")"
   ]
  },
  {
   "cell_type": "code",
   "execution_count": 14,
   "id": "169db729",
   "metadata": {},
   "outputs": [
    {
     "data": {
      "text/plain": [
       "Series([], Name: title, dtype: object)"
      ]
     },
     "execution_count": 14,
     "metadata": {},
     "output_type": "execute_result"
    }
   ],
   "source": [
    "# show only tittles of all tv shows that released in egypt\n",
    "\n",
    "Egypt_TV_Shows = df1[(df1['type'] == 'TV SHOW') & (df1['country'] == 'Egypt')]\n",
    "Egypt_TV_Shows.title "
   ]
  },
  {
   "cell_type": "code",
   "execution_count": 15,
   "id": "2150d5bd",
   "metadata": {},
   "outputs": [
    {
     "data": {
      "text/html": [
       "<div>\n",
       "<style scoped>\n",
       "    .dataframe tbody tr th:only-of-type {\n",
       "        vertical-align: middle;\n",
       "    }\n",
       "\n",
       "    .dataframe tbody tr th {\n",
       "        vertical-align: top;\n",
       "    }\n",
       "\n",
       "    .dataframe thead th {\n",
       "        text-align: right;\n",
       "    }\n",
       "</style>\n",
       "<table border=\"1\" class=\"dataframe\">\n",
       "  <thead>\n",
       "    <tr style=\"text-align: right;\">\n",
       "      <th></th>\n",
       "      <th>type</th>\n",
       "      <th>title</th>\n",
       "      <th>director</th>\n",
       "      <th>cast</th>\n",
       "      <th>country</th>\n",
       "      <th>release_year</th>\n",
       "      <th>rating</th>\n",
       "      <th>duration</th>\n",
       "    </tr>\n",
       "  </thead>\n",
       "  <tbody>\n",
       "    <tr>\n",
       "      <th>54</th>\n",
       "      <td>Movie</td>\n",
       "      <td>InuYasha the Movie: Affections Touching Across...</td>\n",
       "      <td>Toshiya Shinohara</td>\n",
       "      <td>Kappei Yamaguchi, Satsuki Yukino, Koji Tsujita...</td>\n",
       "      <td>Japan</td>\n",
       "      <td>2001</td>\n",
       "      <td>TV-PG</td>\n",
       "      <td>100 min</td>\n",
       "    </tr>\n",
       "    <tr>\n",
       "      <th>140</th>\n",
       "      <td>Movie</td>\n",
       "      <td>El patrón, radiografía de un crimen</td>\n",
       "      <td>Sebastián Schindel</td>\n",
       "      <td>Joaquín Furriel, Luis Ziembrowski, Guillermo P...</td>\n",
       "      <td>Argentina, Venezuela</td>\n",
       "      <td>2014</td>\n",
       "      <td>TV-MA</td>\n",
       "      <td>100 min</td>\n",
       "    </tr>\n",
       "    <tr>\n",
       "      <th>300</th>\n",
       "      <td>Movie</td>\n",
       "      <td>Vivo</td>\n",
       "      <td>Kirk DeMicco, Brandon Jeffords</td>\n",
       "      <td>Lin-Manuel Miranda, Ynairaly Simo, Zoe Saldana...</td>\n",
       "      <td>Canada, United States</td>\n",
       "      <td>2021</td>\n",
       "      <td>PG</td>\n",
       "      <td>100 min</td>\n",
       "    </tr>\n",
       "    <tr>\n",
       "      <th>455</th>\n",
       "      <td>Movie</td>\n",
       "      <td>Emicida: AmarElo - Live in São Paulo</td>\n",
       "      <td>Fred Ouro Preto</td>\n",
       "      <td>Emicida</td>\n",
       "      <td>NaN</td>\n",
       "      <td>2021</td>\n",
       "      <td>TV-MA</td>\n",
       "      <td>100 min</td>\n",
       "    </tr>\n",
       "    <tr>\n",
       "      <th>461</th>\n",
       "      <td>Movie</td>\n",
       "      <td>The Unknown Saint</td>\n",
       "      <td>Alaa Eddine Aljem</td>\n",
       "      <td>Younes Bouab, Salah Bensalah, Bouchaib Essamak...</td>\n",
       "      <td>NaN</td>\n",
       "      <td>2019</td>\n",
       "      <td>TV-14</td>\n",
       "      <td>100 min</td>\n",
       "    </tr>\n",
       "  </tbody>\n",
       "</table>\n",
       "</div>"
      ],
      "text/plain": [
       "      type                                              title  \\\n",
       "54   Movie  InuYasha the Movie: Affections Touching Across...   \n",
       "140  Movie                El patrón, radiografía de un crimen   \n",
       "300  Movie                                               Vivo   \n",
       "455  Movie               Emicida: AmarElo - Live in São Paulo   \n",
       "461  Movie                                  The Unknown Saint   \n",
       "\n",
       "                           director  \\\n",
       "54                Toshiya Shinohara   \n",
       "140              Sebastián Schindel   \n",
       "300  Kirk DeMicco, Brandon Jeffords   \n",
       "455                 Fred Ouro Preto   \n",
       "461               Alaa Eddine Aljem   \n",
       "\n",
       "                                                  cast                country  \\\n",
       "54   Kappei Yamaguchi, Satsuki Yukino, Koji Tsujita...                  Japan   \n",
       "140  Joaquín Furriel, Luis Ziembrowski, Guillermo P...   Argentina, Venezuela   \n",
       "300  Lin-Manuel Miranda, Ynairaly Simo, Zoe Saldana...  Canada, United States   \n",
       "455                                            Emicida                    NaN   \n",
       "461  Younes Bouab, Salah Bensalah, Bouchaib Essamak...                    NaN   \n",
       "\n",
       "     release_year rating duration  \n",
       "54           2001  TV-PG  100 min  \n",
       "140          2014  TV-MA  100 min  \n",
       "300          2021     PG  100 min  \n",
       "455          2021  TV-MA  100 min  \n",
       "461          2019  TV-14  100 min  "
      ]
     },
     "execution_count": 15,
     "metadata": {},
     "output_type": "execute_result"
    }
   ],
   "source": [
    "# In how many  movies and tv shows,duration was 100 minute\n",
    "\n",
    "duration_100_mins = df1[df1[\"duration\"] == \"100 min\"]\n",
    "duration_100_mins.head()"
   ]
  },
  {
   "cell_type": "code",
   "execution_count": 16,
   "id": "e8435e65",
   "metadata": {},
   "outputs": [
    {
     "data": {
      "text/plain": [
       "108"
      ]
     },
     "execution_count": 16,
     "metadata": {},
     "output_type": "execute_result"
    }
   ],
   "source": [
    "duration_100_mins [\"type\"].agg(\"count\")"
   ]
  },
  {
   "cell_type": "code",
   "execution_count": 17,
   "id": "198a6ef5",
   "metadata": {},
   "outputs": [
    {
     "data": {
      "text/html": [
       "<div>\n",
       "<style scoped>\n",
       "    .dataframe tbody tr th:only-of-type {\n",
       "        vertical-align: middle;\n",
       "    }\n",
       "\n",
       "    .dataframe tbody tr th {\n",
       "        vertical-align: top;\n",
       "    }\n",
       "\n",
       "    .dataframe thead th {\n",
       "        text-align: right;\n",
       "    }\n",
       "</style>\n",
       "<table border=\"1\" class=\"dataframe\">\n",
       "  <thead>\n",
       "    <tr style=\"text-align: right;\">\n",
       "      <th></th>\n",
       "      <th>type</th>\n",
       "      <th>title</th>\n",
       "      <th>director</th>\n",
       "      <th>cast</th>\n",
       "      <th>country</th>\n",
       "      <th>release_year</th>\n",
       "      <th>rating</th>\n",
       "      <th>duration</th>\n",
       "    </tr>\n",
       "  </thead>\n",
       "  <tbody>\n",
       "    <tr>\n",
       "      <th>4</th>\n",
       "      <td>TV Show</td>\n",
       "      <td>Kota Factory</td>\n",
       "      <td>NaN</td>\n",
       "      <td>Mayur More, Jitendra Kumar, Ranjan Raj, Alam K...</td>\n",
       "      <td>India</td>\n",
       "      <td>2021</td>\n",
       "      <td>TV-MA</td>\n",
       "      <td>2 Seasons</td>\n",
       "    </tr>\n",
       "    <tr>\n",
       "      <th>39</th>\n",
       "      <td>TV Show</td>\n",
       "      <td>Chhota Bheem</td>\n",
       "      <td>NaN</td>\n",
       "      <td>Vatsal Dubey, Julie Tejwani, Rupa Bhimani, Jig...</td>\n",
       "      <td>India</td>\n",
       "      <td>2021</td>\n",
       "      <td>TV-Y7</td>\n",
       "      <td>3 Seasons</td>\n",
       "    </tr>\n",
       "    <tr>\n",
       "      <th>50</th>\n",
       "      <td>TV Show</td>\n",
       "      <td>Dharmakshetra</td>\n",
       "      <td>NaN</td>\n",
       "      <td>Kashmira Irani, Chandan Anand, Dinesh Mehta, A...</td>\n",
       "      <td>India</td>\n",
       "      <td>2014</td>\n",
       "      <td>TV-PG</td>\n",
       "      <td>1 Season</td>\n",
       "    </tr>\n",
       "    <tr>\n",
       "      <th>66</th>\n",
       "      <td>TV Show</td>\n",
       "      <td>Raja Rasoi Aur Anya Kahaniyan</td>\n",
       "      <td>NaN</td>\n",
       "      <td>NaN</td>\n",
       "      <td>India</td>\n",
       "      <td>2014</td>\n",
       "      <td>TV-G</td>\n",
       "      <td>1 Season</td>\n",
       "    </tr>\n",
       "    <tr>\n",
       "      <th>69</th>\n",
       "      <td>TV Show</td>\n",
       "      <td>Stories by Rabindranath Tagore</td>\n",
       "      <td>NaN</td>\n",
       "      <td>NaN</td>\n",
       "      <td>India</td>\n",
       "      <td>2015</td>\n",
       "      <td>TV-PG</td>\n",
       "      <td>1 Season</td>\n",
       "    </tr>\n",
       "    <tr>\n",
       "      <th>...</th>\n",
       "      <td>...</td>\n",
       "      <td>...</td>\n",
       "      <td>...</td>\n",
       "      <td>...</td>\n",
       "      <td>...</td>\n",
       "      <td>...</td>\n",
       "      <td>...</td>\n",
       "      <td>...</td>\n",
       "    </tr>\n",
       "    <tr>\n",
       "      <th>8173</th>\n",
       "      <td>TV Show</td>\n",
       "      <td>Thackeray</td>\n",
       "      <td>NaN</td>\n",
       "      <td>NaN</td>\n",
       "      <td>India</td>\n",
       "      <td>2019</td>\n",
       "      <td>TV-MA</td>\n",
       "      <td>1 Season</td>\n",
       "    </tr>\n",
       "    <tr>\n",
       "      <th>8235</th>\n",
       "      <td>TV Show</td>\n",
       "      <td>The Calling</td>\n",
       "      <td>Bumpy</td>\n",
       "      <td>NaN</td>\n",
       "      <td>India</td>\n",
       "      <td>2018</td>\n",
       "      <td>TV-MA</td>\n",
       "      <td>1 Season</td>\n",
       "    </tr>\n",
       "    <tr>\n",
       "      <th>8321</th>\n",
       "      <td>TV Show</td>\n",
       "      <td>The Golden Years with Javed Akhtar</td>\n",
       "      <td>NaN</td>\n",
       "      <td>NaN</td>\n",
       "      <td>India</td>\n",
       "      <td>2016</td>\n",
       "      <td>TV-G</td>\n",
       "      <td>1 Season</td>\n",
       "    </tr>\n",
       "    <tr>\n",
       "      <th>8349</th>\n",
       "      <td>TV Show</td>\n",
       "      <td>The House That Made Me</td>\n",
       "      <td>NaN</td>\n",
       "      <td>Vinay Pathak</td>\n",
       "      <td>India</td>\n",
       "      <td>2015</td>\n",
       "      <td>TV-PG</td>\n",
       "      <td>3 Seasons</td>\n",
       "    </tr>\n",
       "    <tr>\n",
       "      <th>8775</th>\n",
       "      <td>TV Show</td>\n",
       "      <td>Yeh Meri Family</td>\n",
       "      <td>NaN</td>\n",
       "      <td>Vishesh Bansal, Mona Singh, Akarsh Khurana, Ah...</td>\n",
       "      <td>India</td>\n",
       "      <td>2018</td>\n",
       "      <td>TV-PG</td>\n",
       "      <td>1 Season</td>\n",
       "    </tr>\n",
       "  </tbody>\n",
       "</table>\n",
       "<p>79 rows × 8 columns</p>\n",
       "</div>"
      ],
      "text/plain": [
       "         type                               title director  \\\n",
       "4     TV Show                        Kota Factory      NaN   \n",
       "39    TV Show                        Chhota Bheem      NaN   \n",
       "50    TV Show                       Dharmakshetra      NaN   \n",
       "66    TV Show       Raja Rasoi Aur Anya Kahaniyan      NaN   \n",
       "69    TV Show      Stories by Rabindranath Tagore      NaN   \n",
       "...       ...                                 ...      ...   \n",
       "8173  TV Show                           Thackeray      NaN   \n",
       "8235  TV Show                         The Calling    Bumpy   \n",
       "8321  TV Show  The Golden Years with Javed Akhtar      NaN   \n",
       "8349  TV Show              The House That Made Me      NaN   \n",
       "8775  TV Show                     Yeh Meri Family      NaN   \n",
       "\n",
       "                                                   cast country  release_year  \\\n",
       "4     Mayur More, Jitendra Kumar, Ranjan Raj, Alam K...   India          2021   \n",
       "39    Vatsal Dubey, Julie Tejwani, Rupa Bhimani, Jig...   India          2021   \n",
       "50    Kashmira Irani, Chandan Anand, Dinesh Mehta, A...   India          2014   \n",
       "66                                                  NaN   India          2014   \n",
       "69                                                  NaN   India          2015   \n",
       "...                                                 ...     ...           ...   \n",
       "8173                                                NaN   India          2019   \n",
       "8235                                                NaN   India          2018   \n",
       "8321                                                NaN   India          2016   \n",
       "8349                                       Vinay Pathak   India          2015   \n",
       "8775  Vishesh Bansal, Mona Singh, Akarsh Khurana, Ah...   India          2018   \n",
       "\n",
       "     rating   duration  \n",
       "4     TV-MA  2 Seasons  \n",
       "39    TV-Y7  3 Seasons  \n",
       "50    TV-PG   1 Season  \n",
       "66     TV-G   1 Season  \n",
       "69    TV-PG   1 Season  \n",
       "...     ...        ...  \n",
       "8173  TV-MA   1 Season  \n",
       "8235  TV-MA   1 Season  \n",
       "8321   TV-G   1 Season  \n",
       "8349  TV-PG  3 Seasons  \n",
       "8775  TV-PG   1 Season  \n",
       "\n",
       "[79 rows x 8 columns]"
      ]
     },
     "execution_count": 17,
     "metadata": {},
     "output_type": "execute_result"
    }
   ],
   "source": [
    "# total number pf indian tv shows released in every year\n",
    "\n",
    "Indian_released_TV_Shows = df1[(df1['type'] == \"TV Show\") & (df1['country'] ==\"India\")]\n",
    "\n",
    "Indian_released_TV_Shows "
   ]
  },
  {
   "cell_type": "code",
   "execution_count": 18,
   "id": "14395001",
   "metadata": {},
   "outputs": [
    {
     "data": {
      "text/plain": [
       "release_year  release_year\n",
       "2009          2009             1\n",
       "2010          2010             3\n",
       "2011          2011             1\n",
       "2012          2012             2\n",
       "2013          2013             3\n",
       "2014          2014             5\n",
       "2015          2015             9\n",
       "2016          2016             1\n",
       "2017          2017             3\n",
       "2018          2018            13\n",
       "2019          2019            13\n",
       "2020          2020            16\n",
       "2021          2021             9\n",
       "Name: release_year, dtype: int64"
      ]
     },
     "execution_count": 18,
     "metadata": {},
     "output_type": "execute_result"
    }
   ],
   "source": [
    "Indian_released_TV_Shows.groupby('release_year')['release_year'].value_counts()"
   ]
  },
  {
   "cell_type": "code",
   "execution_count": 19,
   "id": "1617ff09",
   "metadata": {},
   "outputs": [
    {
     "data": {
      "text/html": [
       "<div>\n",
       "<style scoped>\n",
       "    .dataframe tbody tr th:only-of-type {\n",
       "        vertical-align: middle;\n",
       "    }\n",
       "\n",
       "    .dataframe tbody tr th {\n",
       "        vertical-align: top;\n",
       "    }\n",
       "\n",
       "    .dataframe thead th {\n",
       "        text-align: right;\n",
       "    }\n",
       "</style>\n",
       "<table border=\"1\" class=\"dataframe\">\n",
       "  <thead>\n",
       "    <tr style=\"text-align: right;\">\n",
       "      <th></th>\n",
       "      <th>type</th>\n",
       "      <th>country</th>\n",
       "      <th>release_year</th>\n",
       "    </tr>\n",
       "  </thead>\n",
       "  <tbody>\n",
       "    <tr>\n",
       "      <th>0</th>\n",
       "      <td>Movie</td>\n",
       "      <td>United States</td>\n",
       "      <td>2020</td>\n",
       "    </tr>\n",
       "    <tr>\n",
       "      <th>1</th>\n",
       "      <td>TV Show</td>\n",
       "      <td>South Africa</td>\n",
       "      <td>2021</td>\n",
       "    </tr>\n",
       "    <tr>\n",
       "      <th>2</th>\n",
       "      <td>TV Show</td>\n",
       "      <td>NaN</td>\n",
       "      <td>2021</td>\n",
       "    </tr>\n",
       "    <tr>\n",
       "      <th>3</th>\n",
       "      <td>TV Show</td>\n",
       "      <td>NaN</td>\n",
       "      <td>2021</td>\n",
       "    </tr>\n",
       "    <tr>\n",
       "      <th>4</th>\n",
       "      <td>TV Show</td>\n",
       "      <td>India</td>\n",
       "      <td>2021</td>\n",
       "    </tr>\n",
       "    <tr>\n",
       "      <th>...</th>\n",
       "      <td>...</td>\n",
       "      <td>...</td>\n",
       "      <td>...</td>\n",
       "    </tr>\n",
       "    <tr>\n",
       "      <th>8802</th>\n",
       "      <td>Movie</td>\n",
       "      <td>United States</td>\n",
       "      <td>2007</td>\n",
       "    </tr>\n",
       "    <tr>\n",
       "      <th>8803</th>\n",
       "      <td>TV Show</td>\n",
       "      <td>NaN</td>\n",
       "      <td>2018</td>\n",
       "    </tr>\n",
       "    <tr>\n",
       "      <th>8804</th>\n",
       "      <td>Movie</td>\n",
       "      <td>United States</td>\n",
       "      <td>2009</td>\n",
       "    </tr>\n",
       "    <tr>\n",
       "      <th>8805</th>\n",
       "      <td>Movie</td>\n",
       "      <td>United States</td>\n",
       "      <td>2006</td>\n",
       "    </tr>\n",
       "    <tr>\n",
       "      <th>8806</th>\n",
       "      <td>Movie</td>\n",
       "      <td>India</td>\n",
       "      <td>2015</td>\n",
       "    </tr>\n",
       "  </tbody>\n",
       "</table>\n",
       "<p>8807 rows × 3 columns</p>\n",
       "</div>"
      ],
      "text/plain": [
       "         type        country  release_year\n",
       "0       Movie  United States          2020\n",
       "1     TV Show   South Africa          2021\n",
       "2     TV Show            NaN          2021\n",
       "3     TV Show            NaN          2021\n",
       "4     TV Show          India          2021\n",
       "...       ...            ...           ...\n",
       "8802    Movie  United States          2007\n",
       "8803  TV Show            NaN          2018\n",
       "8804    Movie  United States          2009\n",
       "8805    Movie  United States          2006\n",
       "8806    Movie          India          2015\n",
       "\n",
       "[8807 rows x 3 columns]"
      ]
     },
     "execution_count": 19,
     "metadata": {},
     "output_type": "execute_result"
    }
   ],
   "source": [
    "# number of tv shows and movies released every year world wide\n",
    "\n",
    "World_Wide_released_TV_Shows = df1[['type','country','release_year']]\n",
    "World_Wide_released_TV_Shows"
   ]
  },
  {
   "cell_type": "code",
   "execution_count": 20,
   "id": "d7efa027",
   "metadata": {},
   "outputs": [
    {
     "data": {
      "text/plain": [
       "74"
      ]
     },
     "execution_count": 20,
     "metadata": {},
     "output_type": "execute_result"
    }
   ],
   "source": [
    "len(World_Wide_released_TV_Shows['release_year'].unique())"
   ]
  },
  {
   "cell_type": "code",
   "execution_count": 21,
   "id": "5f1018da",
   "metadata": {},
   "outputs": [
    {
     "data": {
      "text/plain": [
       "release_year  release_year\n",
       "1925          1925               1\n",
       "1942          1942               2\n",
       "1943          1943               3\n",
       "1944          1944               3\n",
       "1945          1945               4\n",
       "                              ... \n",
       "2017          2017            1032\n",
       "2018          2018            1147\n",
       "2019          2019            1030\n",
       "2020          2020             953\n",
       "2021          2021             592\n",
       "Name: release_year, Length: 74, dtype: int64"
      ]
     },
     "execution_count": 21,
     "metadata": {},
     "output_type": "execute_result"
    }
   ],
   "source": [
    "World_Wide_released_TV_Shows.groupby('release_year')['release_year'].value_counts()"
   ]
  },
  {
   "cell_type": "code",
   "execution_count": 22,
   "id": "2df417b9",
   "metadata": {},
   "outputs": [
    {
     "data": {
      "text/plain": [
       "array(['PG-13', 'TV-MA', 'PG', 'TV-14', 'TV-PG', 'TV-Y', 'TV-Y7', 'R',\n",
       "       'TV-G', 'G', 'NC-17', '74 min', '84 min', '66 min', 'NR', nan,\n",
       "       'TV-Y7-FV', 'UR'], dtype=object)"
      ]
     },
     "execution_count": 22,
     "metadata": {},
     "output_type": "execute_result"
    }
   ],
   "source": [
    "df1['rating'].unique()"
   ]
  },
  {
   "cell_type": "code",
   "execution_count": 23,
   "id": "d4a855d1",
   "metadata": {},
   "outputs": [
    {
     "name": "stdout",
     "output_type": "stream",
     "text": [
      "<class 'pandas.core.series.Series'>\n",
      "RangeIndex: 8807 entries, 0 to 8806\n",
      "Series name: rating\n",
      "Non-Null Count  Dtype \n",
      "--------------  ----- \n",
      "8803 non-null   object\n",
      "dtypes: object(1)\n",
      "memory usage: 68.9+ KB\n"
     ]
    }
   ],
   "source": [
    "df1['rating'].info()"
   ]
  },
  {
   "cell_type": "code",
   "execution_count": 24,
   "id": "63d10cb2",
   "metadata": {},
   "outputs": [
    {
     "data": {
      "text/plain": [
       "rating    rating  \n",
       "66 min    66 min         1\n",
       "74 min    74 min         1\n",
       "84 min    84 min         1\n",
       "G         G             41\n",
       "NC-17     NC-17          3\n",
       "NR        NR            75\n",
       "PG        PG           287\n",
       "PG-13     PG-13        490\n",
       "R         R            797\n",
       "TV-14     TV-14       1427\n",
       "TV-G      TV-G         126\n",
       "TV-MA     TV-MA       2062\n",
       "TV-PG     TV-PG        540\n",
       "TV-Y      TV-Y         131\n",
       "TV-Y7     TV-Y7        139\n",
       "TV-Y7-FV  TV-Y7-FV       5\n",
       "UR        UR             3\n",
       "Name: rating, dtype: int64"
      ]
     },
     "execution_count": 24,
     "metadata": {},
     "output_type": "execute_result"
    }
   ],
   "source": [
    "# number of movies released in every rating category\n",
    "\n",
    "movies_rating = df1[df1['type'] == \"Movie\"].groupby('rating')['rating'].value_counts()\n",
    "movies_rating"
   ]
  },
  {
   "cell_type": "code",
   "execution_count": 25,
   "id": "271e7e88",
   "metadata": {},
   "outputs": [
    {
     "data": {
      "text/plain": [
       "country        country      \n",
       "United States  United States    760\n",
       "Name: country, dtype: int64"
      ]
     },
     "execution_count": 25,
     "metadata": {},
     "output_type": "execute_result"
    }
   ],
   "source": [
    "#which country has highest no of tv shows.\n",
    "\n",
    "tv_shows_by_country = df1[df1['type'] == 'TV Show'].groupby('country')['country'].value_counts().sort_values(ascending=False)\n",
    "tv_shows_by_country.head(1)"
   ]
  },
  {
   "cell_type": "code",
   "execution_count": null,
   "id": "bffa0472",
   "metadata": {},
   "outputs": [],
   "source": []
  }
 ],
 "metadata": {
  "kernelspec": {
   "display_name": "Python 3 (ipykernel)",
   "language": "python",
   "name": "python3"
  },
  "language_info": {
   "codemirror_mode": {
    "name": "ipython",
    "version": 3
   },
   "file_extension": ".py",
   "mimetype": "text/x-python",
   "name": "python",
   "nbconvert_exporter": "python",
   "pygments_lexer": "ipython3",
   "version": "3.11.4"
  }
 },
 "nbformat": 4,
 "nbformat_minor": 5
}
